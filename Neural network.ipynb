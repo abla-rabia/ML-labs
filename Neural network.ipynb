{
  "cells": [
    {
      "cell_type": "markdown",
      "metadata": {
        "id": "28Ro5sOwZLxI"
      },
      "source": [
        "# 2CS-SIL2/SIQ2 Lab06. Neural Networks\n",
        "\n",
        "<p style='text-align: right;font-style: italic;'>Designed by: Mr. Abdelkrime Aries</p>\n",
        "\n",
        "In this lab, we will learn about neural networks (NN).\n",
        "We will implement backpropagation to understand how a NN works.\n",
        "Then, we will test many concepts:\n",
        "- Parameters' initialization\n",
        "- Activation functions effect\n",
        "- Optimization functions for NN"
      ]
    },
    {
      "cell_type": "markdown",
      "metadata": {
        "id": "xU13ASiRZLxN"
      },
      "source": [
        "**Team:**\n",
        "- **Member 01**: Rabia Abla\n",
        "- **Group**: SIL2"
      ]
    },
    {
      "cell_type": "code",
      "execution_count": 1,
      "metadata": {
        "colab": {
          "base_uri": "https://localhost:8080/"
        },
        "id": "0jet1MaUZLxO",
        "outputId": "fc8d8c33-b688-456a-9a9d-52e7b4ff8aad"
      },
      "outputs": [
        {
          "output_type": "execute_result",
          "data": {
            "text/plain": [
              "('2.0.2', '2.2.2', '3.10.0')"
            ]
          },
          "metadata": {},
          "execution_count": 1
        }
      ],
      "source": [
        "import matplotlib\n",
        "import numpy             as np\n",
        "import pandas            as pd\n",
        "import matplotlib.pyplot as plt\n",
        "from matplotlib      import colors\n",
        "%matplotlib inline\n",
        "\n",
        "np.__version__, pd.__version__, matplotlib.__version__"
      ]
    },
    {
      "cell_type": "code",
      "execution_count": 3,
      "metadata": {
        "id": "-JGMfT_-ZLxQ"
      },
      "outputs": [],
      "source": [
        "from sklearn.preprocessing import StandardScaler"
      ]
    },
    {
      "cell_type": "code",
      "execution_count": 4,
      "metadata": {
        "id": "qAVYOcVRZLxR"
      },
      "outputs": [],
      "source": [
        "import logging, os\n",
        "logging.disable(logging.WARNING)\n",
        "os.environ['TF_CPP_MIN_LOG_LEVEL'] = '3'\n",
        "\n",
        "import tensorflow as tf\n",
        "from tensorflow              import keras\n",
        "from tensorflow.keras.layers import Input, Dense\n",
        "from tensorflow.keras.models import Sequential, Model\n"
      ]
    },
    {
      "cell_type": "code",
      "execution_count": 5,
      "metadata": {
        "id": "RRxzO4syZLxS"
      },
      "outputs": [],
      "source": [
        "from typing          import Tuple, List, Type, Union\n",
        "from collections.abc import Callable"
      ]
    },
    {
      "cell_type": "markdown",
      "metadata": {
        "id": "4-CfPgJTZLxS"
      },
      "source": [
        "## I. Algorithms implementation\n",
        "\n",
        "In this section, we will try to implement a NN.\n",
        "A network is composed of many layers, each of many neurons.\n",
        "\n",
        "\n",
        "**>> Try to use \"numpy\" which will save a lot of time and effort**"
      ]
    },
    {
      "cell_type": "code",
      "execution_count": 6,
      "metadata": {
        "colab": {
          "base_uri": "https://localhost:8080/"
        },
        "id": "ERsX-mX2ZLxT",
        "outputId": "ed04ce5b-a003-42af-92ca-70efa5ee489e"
      },
      "outputs": [
        {
          "output_type": "stream",
          "name": "stdout",
          "text": [
            "This class is abstract; implement it\n",
            "This class is abstract; implement it\n",
            "works3\n"
          ]
        }
      ],
      "source": [
        "# API (Do not change, or you'll see double)\n",
        "# This is just an interface to define Activation and Loss functions' behaviour\n",
        "\n",
        "# =====================================================\n",
        "# =========== Activation function API =================\n",
        "# =====================================================\n",
        "class Activation(object):\n",
        "    \"\"\"Base Class to implement activation functions\"\"\"\n",
        "\n",
        "    def __init__(self):\n",
        "        raise Exception('This class is abstract; implement it')\n",
        "\n",
        "    def activate(self, Z):\n",
        "        \"\"\"Calculates the activation based on Z\"\"\"\n",
        "        raise Exception('Must be implemented in child class')\n",
        "\n",
        "    def partial(self, Z, H):\n",
        "        \"\"\"Calculates partial derivative based on Z and the activation H\"\"\"\n",
        "        raise Exception('Must be implemented in child class')\n",
        "\n",
        "# =====================================================\n",
        "# ============== Loss function API ====================\n",
        "# =====================================================\n",
        "class Loss(object):\n",
        "    \"\"\"Base Class to implement loss functions\"\"\"\n",
        "\n",
        "    def __init__(self):\n",
        "        raise Exception('This class is abstract; implement it')\n",
        "\n",
        "    def calculate(self, H, Y):\n",
        "        \"\"\"Calculates the loss based on the infered output H and the real output Y\"\"\"\n",
        "        raise Exception('Must be implemented in child class')\n",
        "\n",
        "    def partial(self, H, Y):\n",
        "        \"\"\"Calculates partial derivative based on the infered output H and the real output Y\"\"\"\n",
        "        raise Exception('Must be implemented in child class')\n",
        "\n",
        "#=====================================================================\n",
        "# UNIT TEST\n",
        "#=====================================================================\n",
        "# Result:\n",
        "# This class is abstract; implement it\n",
        "# This class is abstract; implement it\n",
        "# works3\n",
        "#---------------------------------------------------------------------\n",
        "\n",
        "try:\n",
        "    aa = Activation()\n",
        "    print('works1')\n",
        "except Exception as e:\n",
        "    print(e)\n",
        "try:\n",
        "    ll = Loss()\n",
        "    print('works2')\n",
        "except Exception as e:\n",
        "    print(e)\n",
        "\n",
        "class ActivationChild(Activation):\n",
        "    def __init__(self):\n",
        "        pass\n",
        "try:\n",
        "    aa = ActivationChild()\n",
        "    print('works3')\n",
        "except Exception as e:\n",
        "    print(e)"
      ]
    },
    {
      "cell_type": "markdown",
      "metadata": {
        "id": "pUo9CSOYZLxU"
      },
      "source": [
        "### I.1. Activation functions\n",
        "\n",
        "You have to implement both logistic regression and ReLU activation functions.\n",
        "\n",
        "Logistic regression:\n",
        "$$H = \\sigma(Z) = \\frac{1}{1+e^{-Z}} \\ \\ \\ \\ \\ \\ \\frac{\\partial \\sigma(Z)}{\\partial Z} = \\sigma(Z) (1-\\sigma(Z))$$\n",
        "\n",
        "ReLU:\n",
        "$$H = ReLU(Z) = \\begin{cases} Z & \\text{if } Z > 0 \\\\ 0 & \\text{otherwise}\\end{cases}\n",
        "\\ \\ \\ \\ \\ \\\n",
        "\\frac{\\partial ReLU(Z)}{\\partial Z} = \\begin{cases} 1 & \\text{if } Z > 0 \\\\ 0 & \\text{otherwise}\\end{cases}$$\n"
      ]
    },
    {
      "cell_type": "code",
      "execution_count": 7,
      "metadata": {
        "colab": {
          "base_uri": "https://localhost:8080/"
        },
        "id": "Kt8sy-_5ZLxV",
        "outputId": "b7f69445-230d-4970-d3be-c988b72ad8f1"
      },
      "outputs": [
        {
          "output_type": "execute_result",
          "data": {
            "text/plain": [
              "(array([0.84104179, 0.84290453]), array([0.1336905 , 0.13241648]))"
            ]
          },
          "metadata": {},
          "execution_count": 7
        }
      ],
      "source": [
        "# TODO: Logistic Activation class\n",
        "class Logistic(Activation):\n",
        "    def __init__(self):\n",
        "        pass\n",
        "\n",
        "    def activate(self, Z):\n",
        "        return 1 / (1 + np.exp(-Z))\n",
        "\n",
        "    def partial(self, Z, H):\n",
        "        return H * (1 - H)\n",
        "\n",
        "#=====================================================================\n",
        "# UNIT TEST\n",
        "#=====================================================================\n",
        "# Result:\n",
        "# (array([0.84104179, 0.84290453]), array([0.1336905 , 0.13241648]))\n",
        "#---------------------------------------------------------------------\n",
        "\n",
        "lg = Logistic()\n",
        "z4_1       = np.array([1.666, 1.68])\n",
        "a4_1       = lg.activate(z4_1)\n",
        "a4_1p      = lg.partial(z4_1, a4_1)\n",
        "\n",
        "a4_1, a4_1p"
      ]
    },
    {
      "cell_type": "code",
      "execution_count": 8,
      "metadata": {
        "colab": {
          "base_uri": "https://localhost:8080/"
        },
        "id": "vJcJ6gBjZLxW",
        "outputId": "553d8586-32d7-4472-ec05-c220b4cd2928"
      },
      "outputs": [
        {
          "output_type": "execute_result",
          "data": {
            "text/plain": [
              "(array([0, 2, 0]), array([0., 1., 0.]))"
            ]
          },
          "metadata": {},
          "execution_count": 8
        }
      ],
      "source": [
        "# TODO: ReLU Activation class\n",
        "class ReLU(Activation):\n",
        "    def __init__(self):\n",
        "        pass\n",
        "\n",
        "    def activate(self, Z):\n",
        "        return np.maximum(0, Z)\n",
        "\n",
        "    def partial(self, Z, H):\n",
        "        return (Z > 0).astype(float)\n",
        "\n",
        "#=====================================================================\n",
        "# UNIT TEST\n",
        "#=====================================================================\n",
        "# Result:\n",
        "# (array([0., 2., 0.]), array([0., 1., 0.]))\n",
        "#---------------------------------------------------------------------\n",
        "\n",
        "relu = ReLU()\n",
        "z_t  = np.array([0, 2, -3])\n",
        "a_t  = relu.activate(z_t)\n",
        "p_t  = relu.partial(z_t, a_t)\n",
        "\n",
        "a_t, p_t"
      ]
    },
    {
      "cell_type": "markdown",
      "metadata": {
        "id": "UbYAfPWQZLxX"
      },
      "source": [
        "### I.2. Loss functions\n",
        "\n",
        "Binary Cross ntropy (BCE) loss function is calculated as:\n",
        "$$BCE(Y, H) = - ( Y \\log(H) + (1-Y) \\log(1-H))$$\n",
        "\n",
        "It's derivative is calculated as:\n",
        "$$\\frac{\\partial BCE}{\\partial H} = \\frac{H-Y}{H - H^2}$$"
      ]
    },
    {
      "cell_type": "code",
      "execution_count": 9,
      "metadata": {
        "colab": {
          "base_uri": "https://localhost:8080/"
        },
        "id": "MWT6kKABZLxY",
        "outputId": "989b78a7-adfb-455b-cc95-3fb869601f54"
      },
      "outputs": [
        {
          "output_type": "execute_result",
          "data": {
            "text/plain": [
              "(array([1.83258146, 0.17078832]), array([ 6.25      , -1.18623962]))"
            ]
          },
          "metadata": {},
          "execution_count": 9
        }
      ],
      "source": [
        "# TODO: BCE Loss class\n",
        "class BCE(Loss):\n",
        "    def __init__(self):\n",
        "        pass\n",
        "\n",
        "    def calculate(self, H, Y):\n",
        "        return - (Y * np.log(H) + (1 - Y) * np.log(1 - H))\n",
        "\n",
        "    def partial(self, H, Y):\n",
        "        return (H - Y) / (H - H**2)\n",
        "\n",
        "#=====================================================================\n",
        "# UNIT TEST\n",
        "#=====================================================================\n",
        "# Result:\n",
        "# (array([1.83258146, 0.17078832]), array([ 6.25      , -1.18623962]))\n",
        "#---------------------------------------------------------------------\n",
        "\n",
        "bce = BCE()\n",
        "\n",
        "H = np.array([0.840 , 0.843])\n",
        "Y = np.array([0., 1.])\n",
        "J = bce.calculate(H, Y)\n",
        "DJ = bce.partial(H, Y)\n",
        "\n",
        "J, DJ"
      ]
    },
    {
      "cell_type": "markdown",
      "metadata": {
        "id": "fGq9VmtYZLxa"
      },
      "source": [
        "### I.3. Neuron\n",
        "\n",
        "Let us implement retropropagation of one neuron.\n",
        "\n",
        "$$\\delta^{(l)} = \\frac{\\partial f^{(l)}}{\\partial z^{(l)}} w^{(l+1)} \\delta^{(l+1)}$$\n",
        "\n",
        "$$\\frac{\\partial J}{\\partial w^{(l)}} = a^{(l-1)} \\delta^{(l)}$$\n",
        "\n",
        "$$\\frac{\\partial J}{\\partial b^{(l)}} = \\delta^{(l)}$$\n",
        "\n",
        "The product is a matrix product (on $M$) and we must take the average of the outputs (on $Ln$).\n",
        "\n",
        "The function that updates the parameters takes as input:\n",
        "- $W[L_p]$ a list of weights; a vector of size $L_p$ (the number of neurons in the previous layer)\n",
        "- $b$ bias\n",
        "- $Z[M]$ the linear combination of the current neuron; a vector of size $M$ (the number of samples)\n",
        "- $A[M]$ the activation of the current neuron; a vector of size $M$\n",
        "- $A\\_past[M, L_p]$ the activations of the neurons of the previous layer; a matrix of size is $(M * L_p)$\n",
        "- $Delta\\_next[M, Ln]$ the delta calculated in the next layer; a matrix of size $M * L_n$ ($L_n$: the number of neurons in the next layer)\n",
        "- $W\\_next[Ln]$ the weights to the next layer; a vector of size $Ln$\n",
        "- $act$ is an \"Activation\" type object; it provides two methods: \"act.activate\" and \"act.partial\"\n",
        "- $alpha$ the training step"
      ]
    },
    {
      "cell_type": "code",
      "execution_count": 48,
      "metadata": {
        "colab": {
          "base_uri": "https://localhost:8080/"
        },
        "id": "FKRr-r6QZLxb",
        "outputId": "a3de5ccd-ba8d-468a-dc33-190770401eee"
      },
      "outputs": [
        {
          "output_type": "execute_result",
          "data": {
            "text/plain": [
              "(array([0.49375218, 0.2046736 ]),\n",
              " np.float64(-0.30324311474187016),\n",
              " array([ 0.00696306, -0.00047683]))"
            ]
          },
          "metadata": {},
          "execution_count": 48
        }
      ],
      "source": [
        "# TODO: Neuron Backpropagation\n",
        "def backpropagate_neuron(W, b, Z, A, A_past, Delta_next, W_next, act, alpha=1.):\n",
        "    partial = act.partial(Z, A)\n",
        "    weighted_delta_next = Delta_next @ W_next\n",
        "    Delta = partial * weighted_delta_next\n",
        "\n",
        "    dJ_dW = np.mean(A_past * Delta[:, np.newaxis], axis=0)\n",
        "    dJ_db = np.mean(Delta)\n",
        "\n",
        "    Wn = W - alpha * dJ_dW\n",
        "    bn = b - alpha * dJ_db\n",
        "\n",
        "    return Wn, bn, Delta\n",
        "\n",
        "#=====================================================================\n",
        "# UNIT TEST\n",
        "#=====================================================================\n",
        "# Result:\n",
        "# (array([0.49375218, 0.2046736 ]),\n",
        "#  -0.30324311474187016,\n",
        "#  array([ 0.00696306, -0.00047683]))\n",
        "#---------------------------------------------------------------------\n",
        "\n",
        "W_t = np.array([0.5, 0.2])\n",
        "b_t = -0.3\n",
        "Z_t = np.array([0.5, 2.2])\n",
        "\n",
        "# A_t[M] (This neuron's current activation)\n",
        "A_t = np.array([0.62245933, 0.90024951])\n",
        "\n",
        "# A_past_t[M, L_p] (This neuron's past layer's activations)\n",
        "A_past_t = np.array([[2., -1.], [3., 5.]])\n",
        "\n",
        "# Delta_next_t[M, L_n] (This neuron's next layer's deltas)\n",
        "Delta_next_t = np.array([[ 0.14523862, -0.02613822], [ 0.1394202, -0.02531591]]).T\n",
        "\n",
        "# W_next_t[L_n] (This neuron's next layer's Weights)\n",
        "W_next_t = np.array([0.3, -0.1])\n",
        "\n",
        "act = Logistic() # Activation function\n",
        "\n",
        "W_nouv, b_nouv, Delta_nouv = backpropagate_neuron(W_t, b_t, Z_t, A_t, A_past_t, Delta_next_t, W_next_t, act, alpha=1.)\n",
        "\n",
        "W_nouv, b_nouv, Delta_nouv"
      ]
    },
    {
      "cell_type": "code",
      "execution_count": 49,
      "metadata": {
        "colab": {
          "base_uri": "https://localhost:8080/"
        },
        "id": "XBrnY3qnZLxd",
        "outputId": "cf989e90-49ae-4319-ee61-532bfb285993"
      },
      "outputs": [
        {
          "output_type": "stream",
          "name": "stdout",
          "text": [
            "z2_1 = [0.5 2.2]\n",
            "a2_1 = [0.62245933 0.90024951]\n",
            "partial(a2_1) = [0.23500371 0.08980033]\n",
            "past b = -0.3\n",
            "past w = [0.5 0.2]\n",
            "delta2 = [ 0.00696306 -0.00047683]\n",
            "new b = -0.30324311473938026\n",
            "new w = [0.49375218 0.2046736 ]\n"
          ]
        }
      ],
      "source": [
        "# Nothing to do here\n",
        "# Do not modify, or you'll grow hobbit feet\n",
        "class Neuron(object):\n",
        "    def __init__(self, in_size, activation=Logistic()):\n",
        "        self.b   = 0.\n",
        "        self.w   = np.array([0.] * in_size)\n",
        "        self.act = activation\n",
        "\n",
        "    def randomize(self):\n",
        "        self.w = np.random.rand(len(self.w))\n",
        "        self.b = np.random.rand(1)[0]\n",
        "\n",
        "    def __aggregate(self, X):\n",
        "        return np.dot(X, self.w) + self.b\n",
        "\n",
        "    def activate(self, X):\n",
        "        self.a_past = X\n",
        "        self.z      = self.__aggregate(X)\n",
        "        self.a      = self.act.activate(self.z)\n",
        "        return self.a\n",
        "\n",
        "    def update(self, delta_next, w_next, alpha=1.):\n",
        "        w_past                = self.w.copy()\n",
        "        self.w, self.b, delta = backpropagate_neuron(self.w, self.b, self.z, self.a, self.a_past, delta_next, w_next, self.act, alpha=alpha)\n",
        "        return delta, w_past\n",
        "\n",
        "#=====================================================================\n",
        "# UNIT TEST\n",
        "#=====================================================================\n",
        "# Result:\n",
        "# z2_1 = [0.5 2.2]\n",
        "# a2_1 = [0.62245933 0.90024951]\n",
        "# partial(a2_1) = [0.23500371 0.08980033]\n",
        "# past b = -0.3\n",
        "# past w = [0.5 0.2]\n",
        "# delta2 = [ 0.00696306 -0.00047683]\n",
        "# new b = -0.30324311473938026\n",
        "# new w = [0.49375218 0.2046736 ]\n",
        "#---------------------------------------------------------------------\n",
        "\n",
        "# New neuron with two inputs\n",
        "n = Neuron(2)\n",
        "# ---------------------\n",
        "# We should not affect the weights directly\n",
        "# Here, it's just to have the same weights of the output neuron in the example seen in the lecture\n",
        "# We will reproduce the parameters of neuron 1 hidden layer 1 (layer 2)\n",
        "n.b = -0.3\n",
        "n.w = np.array([0.5, 0.2])\n",
        "# ---------------------\n",
        "\n",
        "# M X Lp (Here A1 = X; the input)\n",
        "A1 = np.array([[2., -1.], [3., 5.]])\n",
        "# M X Ln (Delta of the next layer)\n",
        "Delta3 = np.array([[ 0.14523862, -0.02613822], [ 0.1394202, -0.02531591]]).T\n",
        "W3_1 = np.array([0.3, -0.1])\n",
        "\n",
        "\n",
        "A2_1 = n.activate(A1)\n",
        "print(\"z2_1 = \" + str(n.z))\n",
        "print(\"a2_1 = \" + str(A2_1))\n",
        "# The partial derivative of logistic function does not need Z, so we pass 0 (to not calculte it)\n",
        "print(\"partial(a2_1) = \" + str(n.act.partial(0, A2_1)))\n",
        "print(\"past b = \" + str(n.b))\n",
        "\n",
        "Delta2, W2_past = n.update(Delta3, W3_1)\n",
        "\n",
        "print(\"past w = \" + str(W2_past))\n",
        "print(\"delta2 = \" + str(Delta2))\n",
        "print(\"new b = \" + str(n.b))\n",
        "print(\"new w = \" + str(n.w))"
      ]
    },
    {
      "cell_type": "markdown",
      "metadata": {
        "id": "BLyrESW9ZLxe"
      },
      "source": [
        "### I.4. Layer\n",
        "\n",
        "A layer is a list of neurons.\n",
        "In this case, the packpropagation of the layer takes:\n",
        "- **neurons**: a list of activated neurons.\n",
        "- **Delta_next**: Delta from the next layer.\n",
        "- **W_next**: next layer's weights\n",
        "- **alpha**: learning rate\n",
        "\n",
        "The function returns a tuple:\n",
        "- Deltas of the current layer (all neurons)\n",
        "- Past weights of the current layer (all neurons)"
      ]
    },
    {
      "cell_type": "code",
      "execution_count": 51,
      "metadata": {
        "colab": {
          "base_uri": "https://localhost:8080/"
        },
        "id": "HelIrc0EZLxe",
        "outputId": "931a3453-ac9f-4883-b523-227961f73eb8"
      },
      "outputs": [
        {
          "output_type": "stream",
          "name": "stdout",
          "text": [
            "deltas : [[ 0.00696306  0.00682726]\n",
            " [-0.00047683 -0.00017109]]\n",
            "past W : [[ 0.00696306  0.00682726]\n",
            " [-0.00047683 -0.00017109]]\n"
          ]
        }
      ],
      "source": [
        "# TODO: Layer Backpropagation\n",
        "def backpropagate_layer(neurons, Delta_next, W_next, alpha=1.):\n",
        "    W_pasts = []\n",
        "    Deltas  = []\n",
        "    for i, neuron in enumerate(neurons):\n",
        "        Z = neuron.z\n",
        "        A = neuron.a\n",
        "        partial = A * (1 - A)\n",
        "        weighted_delta_next = Delta_next @ W_next[i]\n",
        "        Delta = partial * weighted_delta_next\n",
        "        Deltas.append(Delta)\n",
        "        W_pasts.append(neuron.w)\n",
        "        dJ_dW = np.mean(neuron.a_past * Delta[:, np.newaxis], axis=0)\n",
        "        dJ_db = np.mean(Delta)\n",
        "\n",
        "        neuron.w -= alpha * dJ_dW\n",
        "        neuron.b -= alpha * dJ_db\n",
        "\n",
        "    return np.array(Deltas).T, np.array(W_pasts).T\n",
        "    return np.array(Deltas).T, np.array(W_pasts).T\n",
        "\n",
        "#=====================================================================\n",
        "# UNIT TEST\n",
        "#=====================================================================\n",
        "# Result:\n",
        "# deltas : [[ 0.00696306  0.00682726]\n",
        "#  [-0.00047683 -0.00017109]]\n",
        "# past W : [[ 0.00696306  0.00682726]\n",
        "#  [-0.00047683 -0.00017109]]\n",
        "#---------------------------------------------------------------------\n",
        "\n",
        "\n",
        "neurons_t = [Neuron(2), Neuron(2)]\n",
        "\n",
        "# We should not directly assign  weights\n",
        "# Here, it is just to have the same weights of the output neuron of the lecture's example\n",
        "neurons_t[0].b = -0.3\n",
        "neurons_t[0].w = np.array([0.5, 0.2])\n",
        "neurons_t[1].b = 0.5\n",
        "neurons_t[1].w = np.array([0.3, 0.4])\n",
        "\n",
        "delta3 = np.array([[ 0.14523862, -0.02613822], [ 0.1394202, -0.02531591]]).T\n",
        "w3 = np.array([[0.3, -0.1],[0.5, -0.3]])\n",
        "\n",
        "a1 = np.array([[2., -1.], [3., 5.]])\n",
        "neurons_t[0].activate(a1)\n",
        "neurons_t[1].activate(a1)\n",
        "\n",
        "Deltas2, W_pasts2 = backpropagate_layer(neurons_t, delta3, w3)\n",
        "\n",
        "print(\"deltas : \" + str(Deltas2))\n",
        "print(\"past W : \" + str(Deltas2))"
      ]
    },
    {
      "cell_type": "code",
      "execution_count": 52,
      "metadata": {
        "colab": {
          "base_uri": "https://localhost:8080/"
        },
        "id": "mgYaCHeKZLxe",
        "outputId": "05df7a26-12be-4c8c-b597-072e0521945b"
      },
      "outputs": [
        {
          "output_type": "stream",
          "name": "stdout",
          "text": [
            "Activations: [[0.62245933 0.66818777]\n",
            " [0.90024951 0.96770454]]\n",
            "Deltas: [[ 0.00696306  0.00682726]\n",
            " [-0.00047683 -0.00017109]]\n"
          ]
        }
      ],
      "source": [
        "# Do not edit, or your blood will turn green\n",
        "class Layer(object):\n",
        "\n",
        "    def __init__(self, size, in_size, activation=Logistic()):\n",
        "        self.neurons = [Neuron(in_size, activation=activation) for i in range(size)]\n",
        "\n",
        "    def randomize(self):\n",
        "        for neuron in self.neurons:\n",
        "            neuron.randomize()\n",
        "\n",
        "    def forward(self, X):\n",
        "        activations = []\n",
        "        for neuron in self.neurons:\n",
        "            activations.append(neuron.activate(X))\n",
        "        return np.array(activations).T\n",
        "\n",
        "    def backward(self, Delta_next, W_next, alpha=1.):\n",
        "        return backpropagate_layer(self.neurons, Delta_next, W_next, alpha=alpha)\n",
        "\n",
        "\n",
        "\n",
        "#=====================================================================\n",
        "# UNIT TEST\n",
        "#=====================================================================\n",
        "# Result:\n",
        "# Activations: [[0.62245933 0.66818777]\n",
        "#  [0.90024951 0.96770454]]\n",
        "# Deltas: [[ 0.00696306  0.00682726]\n",
        "#  [-0.00047683 -0.00017109]]\n",
        "#---------------------------------------------------------------------\n",
        "\n",
        "# layer 2 (2 neurons, 2 inputs)\n",
        "c2 = Layer(2, 2)\n",
        "\n",
        "# We should not directly assign  weights\n",
        "# Here, it is just to have the same weights of the output neuron of the lecture's example\n",
        "c2.neurons[0].b = -0.3\n",
        "c2.neurons[0].w = np.array([0.5, 0.2])\n",
        "c2.neurons[1].b = 0.5\n",
        "c2.neurons[1].w = np.array([0.3, 0.4])\n",
        "\n",
        "delta3 = np.array([[ 0.14523862, -0.02613822], [ 0.1394202, -0.02531591]]).T\n",
        "w3 = np.array([[0.3, -0.1],[0.5, -0.3]])\n",
        "\n",
        "a1 = np.array([[2., -1.], [3., 5.]])\n",
        "a2 = c2.forward(a1)\n",
        "print(\"Activations: \" + str(a2))\n",
        "\n",
        "Deltas2, W_pasts2 = c2.backward(delta3, w3)\n",
        "\n",
        "print(\"Deltas: \" + str(Deltas2))"
      ]
    },
    {
      "cell_type": "markdown",
      "metadata": {
        "id": "eoP78G90ZLxf"
      },
      "source": [
        "### I.5. Network\n",
        "\n",
        "A network is composed of a list of layers.\n",
        "Here, we want to implement backpropagation over layers (from the last one into the first)\n",
        "\n",
        "\n",
        "For the last layer:\n",
        "- w_past is a list of ones of the this layer's size. Such as [[1.], [1.], ...]\n",
        "- delta_past is the gradient of the loss function \"J_prime\" which must be calculated using the cost function, the output H and the real output Y\n",
        "\n",
        "Then, each layer apply a backpropagation and returns delta_past, w_past which will be fed into the previous layer.\n",
        "\n",
        "The function must return the cost J which is the average of all losses"
      ]
    },
    {
      "cell_type": "code",
      "execution_count": 54,
      "metadata": {
        "colab": {
          "base_uri": "https://localhost:8080/"
        },
        "id": "WMvtt8alZLxf",
        "outputId": "c52d45c9-9bc3-487c-a860-4551dbd538be"
      },
      "outputs": [
        {
          "output_type": "stream",
          "name": "stdout",
          "text": [
            "w4_1 = [0.51494626 0.56592079]\n",
            "w3_1 = [0.27540241 0.47360805]\n",
            "w3_2 = [-0.12586774 -0.3277546 ]\n",
            "w2_1 = [0.49678542 0.20240095]\n",
            "w2_2 = [0.29708413 0.40170156]\n"
          ]
        },
        {
          "output_type": "execute_result",
          "data": {
            "text/plain": [
              "np.float64(1.0020916974430965)"
            ]
          },
          "metadata": {},
          "execution_count": 54
        }
      ],
      "source": [
        "# TODO: Network Backpropagation\n",
        "def backpropagate_network(layers, cost, H, Y):\n",
        "    J = np.mean(cost.calculate(H, Y))\n",
        "    Delta_past = cost.partial(H, Y)\n",
        "    W_past = np.ones((len(layers[-1].neurons), 1))\n",
        "    for layer in reversed(layers):\n",
        "        Delta_past, W_past = layer.backward(Delta_past, W_past, alpha=1.)\n",
        "\n",
        "    return J\n",
        "\n",
        "#=====================================================================\n",
        "# UNIT TEST\n",
        "#=====================================================================\n",
        "# Result:\n",
        "# w4_1 = [0.51494626 0.56592079]\n",
        "# w3_1 = [0.2665629 0.4641237]\n",
        "# w3_2 = [-0.13199638 -0.33433028]\n",
        "# w2_1 = [0.49375219 0.2046736 ]\n",
        "# w2_2 = [0.29342937 0.40384135]\n",
        "# 1.0020916974430965\n",
        "#---------------------------------------------------------------------\n",
        "\n",
        "X = np.array([[2., -1.], [3., 5.]])\n",
        "Y = np.array([[0.], [1.]])\n",
        "\n",
        "layers = [ Layer(2, 2), Layer(2, 2), Layer(1, 2) ]\n",
        "\n",
        "# We should not directly assign  weights\n",
        "# Here, it is just to have the same weights of the output neuron of the lecture's example\n",
        "layers[0].neurons[0].b = -0.3\n",
        "layers[0].neurons[0].w = np.array([0.5, 0.2])\n",
        "layers[0].neurons[1].b = 0.5\n",
        "layers[0].neurons[1].w = np.array([0.3, 0.4])\n",
        "\n",
        "layers[1].neurons[0].b = -0.3\n",
        "layers[1].neurons[0].w = np.array([0.3, 0.5])\n",
        "layers[1].neurons[1].b = -0.2\n",
        "layers[1].neurons[1].w = np.array([-0.1, -0.3])\n",
        "\n",
        "layers[2].neurons[0].b = 1.\n",
        "layers[2].neurons[0].w = np.array([0.7, 0.7])\n",
        "\n",
        "H = X\n",
        "for layer in layers:\n",
        "    H = layer.forward(H)\n",
        "\n",
        "J = backpropagate_network(layers, bce, H, Y)\n",
        "\n",
        "print(\"w4_1 = \" + str(layers[2].neurons[0].w))\n",
        "print(\"w3_1 = \" + str(layers[1].neurons[0].w))\n",
        "print(\"w3_2 = \" + str(layers[1].neurons[1].w))\n",
        "print(\"w2_1 = \" + str(layers[0].neurons[0].w))\n",
        "print(\"w2_2 = \" + str(layers[0].neurons[1].w))\n",
        "\n",
        "J\n"
      ]
    },
    {
      "cell_type": "code",
      "execution_count": 55,
      "metadata": {
        "id": "UoeBt7wbZLxg",
        "outputId": "e3009ee1-57da-4f8c-886e-0bfc6f0069c2",
        "colab": {
          "base_uri": "https://localhost:8080/"
        }
      },
      "outputs": [
        {
          "output_type": "stream",
          "name": "stdout",
          "text": [
            "cost = 1.0020916974430965\n",
            "w4_1 = [0.51494626 0.56592079]\n",
            "w3_1 = [0.27540241 0.47360805]\n",
            "w3_2 = [-0.12586774 -0.3277546 ]\n",
            "w2_1 = [0.49678542 0.20240095]\n",
            "w2_2 = [0.29708413 0.40170156]\n",
            "Prediction: [0 1]\n"
          ]
        }
      ],
      "source": [
        "# Do not change, or your teeth will fall out\n",
        "class NN(object):\n",
        "    def __init__(self, in_size, cost=bce, alpha=1.):\n",
        "        self.current_size = in_size # the last layer's size\n",
        "        self.cost = cost\n",
        "        self.alpha = alpha\n",
        "        self.layers = []\n",
        "\n",
        "    def add_layer(self, size, activation=Logistic()):\n",
        "        new_layer = Layer(size, self.current_size, activation=activation)\n",
        "        self.layers.append(new_layer)\n",
        "        self.current_size = size\n",
        "\n",
        "    def randomize(self):\n",
        "        for layer in self.layers:\n",
        "            layer.randomize()\n",
        "\n",
        "    def predict(self, X):\n",
        "        Y = X\n",
        "        if self.norm:\n",
        "            Y = np.where(self.std==0, X, (X - self.mean)/self.std)\n",
        "\n",
        "        for layer in self.layers:\n",
        "            Y = layer.forward(Y)\n",
        "        if Y.ndim == 2 and Y.shape[1] == 1:\n",
        "            Y = Y.flatten()\n",
        "        return np.where(Y < 0.5, 0, 1)\n",
        "\n",
        "\n",
        "    def _one_iteration(self, X, Y):\n",
        "        # forward propagation\n",
        "        a = X\n",
        "        for layer in self.layers:\n",
        "            a = layer.forward(a)\n",
        "\n",
        "        # cost and its derivative calculation\n",
        "        YY = np.array(Y)\n",
        "        if YY.ndim < 2 :\n",
        "            YY = YY[:, np.newaxis]\n",
        "\n",
        "        # backward propagation\n",
        "        J = backpropagate_network(self.layers, self.cost, a, YY)\n",
        "\n",
        "        return J\n",
        "\n",
        "    def fit(self, X, Y, nbr_it=100, norm=False):\n",
        "        costs = []\n",
        "        X_norm = X\n",
        "        self.norm = norm\n",
        "        if norm:\n",
        "            self.mean = np.mean(X, axis=0)\n",
        "            self.std = np.std(X, axis=0)\n",
        "            X_norm = np.where(self.std==0, X, (X - self.mean)/self.std)\n",
        "\n",
        "        for i in range(nbr_it):\n",
        "            J = self._one_iteration(X_norm, Y)\n",
        "            costs.append(J)\n",
        "        return costs\n",
        "\n",
        "#=====================================================================\n",
        "# UNIT TEST\n",
        "#=====================================================================\n",
        "# Result:\n",
        "# cost = 1.0020916974430965\n",
        "# w4_1 = [0.51494626 0.56592079]\n",
        "# w3_1 = [0.2665629 0.4641237]\n",
        "# w3_2 = [-0.13199638 -0.33433028]\n",
        "# w2_1 = [0.49375219 0.2046736 ]\n",
        "# w2_2 = [0.29342937 0.40384135]\n",
        "# Prediction: [0 1]\n",
        "#---------------------------------------------------------------------\n",
        "\n",
        "X = np.array([[2., -1.], [3., 5.]])\n",
        "Y = np.array([0., 1.])\n",
        "\n",
        "nn = NN(2) # 2 features\n",
        "nn.add_layer(2) # add a hidden layer with 2 neurons\n",
        "nn.add_layer(2) # add a hidden layer with 2 neurons\n",
        "nn.add_layer(1) # add an output layer with 1 neuron\n",
        "\n",
        "# We should not affect the weights directly\n",
        "# Here, it's just to have the same weights of the output neuron in the example seen in the lecture\n",
        "nn.layers[0].neurons[0].b = -0.3\n",
        "nn.layers[0].neurons[0].w = np.array([0.5, 0.2])\n",
        "nn.layers[0].neurons[1].b = 0.5\n",
        "nn.layers[0].neurons[1].w = np.array([0.3, 0.4])\n",
        "\n",
        "nn.layers[1].neurons[0].b = -0.3\n",
        "nn.layers[1].neurons[0].w = np.array([0.3, 0.5])\n",
        "nn.layers[1].neurons[1].b = -0.2\n",
        "nn.layers[1].neurons[1].w = np.array([-0.1, -0.3])\n",
        "\n",
        "nn.layers[2].neurons[0].b = 1.\n",
        "nn.layers[2].neurons[0].w = np.array([0.7, 0.7])\n",
        "\n",
        "J = nn._one_iteration(X, Y)\n",
        "\n",
        "print(\"cost = \" + str(J))\n",
        "print(\"w4_1 = \" + str(nn.layers[2].neurons[0].w))\n",
        "print(\"w3_1 = \" + str(nn.layers[1].neurons[0].w))\n",
        "print(\"w3_2 = \" + str(nn.layers[1].neurons[1].w))\n",
        "print(\"w2_1 = \" + str(nn.layers[0].neurons[0].w))\n",
        "print(\"w2_2 = \" + str(nn.layers[0].neurons[1].w))\n",
        "\n",
        "nn.fit(X, Y, nbr_it=200)\n",
        "print(\"Prediction: \" + str(nn.predict(X)))\n"
      ]
    },
    {
      "cell_type": "markdown",
      "metadata": {
        "id": "n7vF7nLWZLxh"
      },
      "source": [
        "## II. Application and Analysis\n",
        "\n",
        "In this section, we will test different concepts by running an experiment, formulating a hypothesis and trying to justify it.\n",
        "To do this, we will use a light version of diabetes dataset."
      ]
    },
    {
      "cell_type": "code",
      "execution_count": 57,
      "metadata": {
        "id": "AIaqCTxyZLxh",
        "outputId": "3941be6b-76d5-4f7c-d9ec-3024298d66e4",
        "colab": {
          "base_uri": "https://localhost:8080/",
          "height": 206
        }
      },
      "outputs": [
        {
          "output_type": "execute_result",
          "data": {
            "text/plain": [
              "   Pregnancies  Glucose  BloodPressure  SkinThickness  Insulin   BMI  \\\n",
              "0            6      148             72             35        0  33.6   \n",
              "1            1       85             66             29        0  26.6   \n",
              "2            8      183             64              0        0  23.3   \n",
              "3            1       89             66             23       94  28.1   \n",
              "4            0      137             40             35      168  43.1   \n",
              "\n",
              "   DiabetesPedigreeFunction  Age  Outcome  \n",
              "0                     0.627   50        1  \n",
              "1                     0.351   31        0  \n",
              "2                     0.672   32        1  \n",
              "3                     0.167   21        0  \n",
              "4                     2.288   33        1  "
            ],
            "text/html": [
              "\n",
              "  <div id=\"df-4ffcb869-0dbf-49bd-a617-956e304e12c3\" class=\"colab-df-container\">\n",
              "    <div>\n",
              "<style scoped>\n",
              "    .dataframe tbody tr th:only-of-type {\n",
              "        vertical-align: middle;\n",
              "    }\n",
              "\n",
              "    .dataframe tbody tr th {\n",
              "        vertical-align: top;\n",
              "    }\n",
              "\n",
              "    .dataframe thead th {\n",
              "        text-align: right;\n",
              "    }\n",
              "</style>\n",
              "<table border=\"1\" class=\"dataframe\">\n",
              "  <thead>\n",
              "    <tr style=\"text-align: right;\">\n",
              "      <th></th>\n",
              "      <th>Pregnancies</th>\n",
              "      <th>Glucose</th>\n",
              "      <th>BloodPressure</th>\n",
              "      <th>SkinThickness</th>\n",
              "      <th>Insulin</th>\n",
              "      <th>BMI</th>\n",
              "      <th>DiabetesPedigreeFunction</th>\n",
              "      <th>Age</th>\n",
              "      <th>Outcome</th>\n",
              "    </tr>\n",
              "  </thead>\n",
              "  <tbody>\n",
              "    <tr>\n",
              "      <th>0</th>\n",
              "      <td>6</td>\n",
              "      <td>148</td>\n",
              "      <td>72</td>\n",
              "      <td>35</td>\n",
              "      <td>0</td>\n",
              "      <td>33.6</td>\n",
              "      <td>0.627</td>\n",
              "      <td>50</td>\n",
              "      <td>1</td>\n",
              "    </tr>\n",
              "    <tr>\n",
              "      <th>1</th>\n",
              "      <td>1</td>\n",
              "      <td>85</td>\n",
              "      <td>66</td>\n",
              "      <td>29</td>\n",
              "      <td>0</td>\n",
              "      <td>26.6</td>\n",
              "      <td>0.351</td>\n",
              "      <td>31</td>\n",
              "      <td>0</td>\n",
              "    </tr>\n",
              "    <tr>\n",
              "      <th>2</th>\n",
              "      <td>8</td>\n",
              "      <td>183</td>\n",
              "      <td>64</td>\n",
              "      <td>0</td>\n",
              "      <td>0</td>\n",
              "      <td>23.3</td>\n",
              "      <td>0.672</td>\n",
              "      <td>32</td>\n",
              "      <td>1</td>\n",
              "    </tr>\n",
              "    <tr>\n",
              "      <th>3</th>\n",
              "      <td>1</td>\n",
              "      <td>89</td>\n",
              "      <td>66</td>\n",
              "      <td>23</td>\n",
              "      <td>94</td>\n",
              "      <td>28.1</td>\n",
              "      <td>0.167</td>\n",
              "      <td>21</td>\n",
              "      <td>0</td>\n",
              "    </tr>\n",
              "    <tr>\n",
              "      <th>4</th>\n",
              "      <td>0</td>\n",
              "      <td>137</td>\n",
              "      <td>40</td>\n",
              "      <td>35</td>\n",
              "      <td>168</td>\n",
              "      <td>43.1</td>\n",
              "      <td>2.288</td>\n",
              "      <td>33</td>\n",
              "      <td>1</td>\n",
              "    </tr>\n",
              "  </tbody>\n",
              "</table>\n",
              "</div>\n",
              "    <div class=\"colab-df-buttons\">\n",
              "\n",
              "  <div class=\"colab-df-container\">\n",
              "    <button class=\"colab-df-convert\" onclick=\"convertToInteractive('df-4ffcb869-0dbf-49bd-a617-956e304e12c3')\"\n",
              "            title=\"Convert this dataframe to an interactive table.\"\n",
              "            style=\"display:none;\">\n",
              "\n",
              "  <svg xmlns=\"http://www.w3.org/2000/svg\" height=\"24px\" viewBox=\"0 -960 960 960\">\n",
              "    <path d=\"M120-120v-720h720v720H120Zm60-500h600v-160H180v160Zm220 220h160v-160H400v160Zm0 220h160v-160H400v160ZM180-400h160v-160H180v160Zm440 0h160v-160H620v160ZM180-180h160v-160H180v160Zm440 0h160v-160H620v160Z\"/>\n",
              "  </svg>\n",
              "    </button>\n",
              "\n",
              "  <style>\n",
              "    .colab-df-container {\n",
              "      display:flex;\n",
              "      gap: 12px;\n",
              "    }\n",
              "\n",
              "    .colab-df-convert {\n",
              "      background-color: #E8F0FE;\n",
              "      border: none;\n",
              "      border-radius: 50%;\n",
              "      cursor: pointer;\n",
              "      display: none;\n",
              "      fill: #1967D2;\n",
              "      height: 32px;\n",
              "      padding: 0 0 0 0;\n",
              "      width: 32px;\n",
              "    }\n",
              "\n",
              "    .colab-df-convert:hover {\n",
              "      background-color: #E2EBFA;\n",
              "      box-shadow: 0px 1px 2px rgba(60, 64, 67, 0.3), 0px 1px 3px 1px rgba(60, 64, 67, 0.15);\n",
              "      fill: #174EA6;\n",
              "    }\n",
              "\n",
              "    .colab-df-buttons div {\n",
              "      margin-bottom: 4px;\n",
              "    }\n",
              "\n",
              "    [theme=dark] .colab-df-convert {\n",
              "      background-color: #3B4455;\n",
              "      fill: #D2E3FC;\n",
              "    }\n",
              "\n",
              "    [theme=dark] .colab-df-convert:hover {\n",
              "      background-color: #434B5C;\n",
              "      box-shadow: 0px 1px 3px 1px rgba(0, 0, 0, 0.15);\n",
              "      filter: drop-shadow(0px 1px 2px rgba(0, 0, 0, 0.3));\n",
              "      fill: #FFFFFF;\n",
              "    }\n",
              "  </style>\n",
              "\n",
              "    <script>\n",
              "      const buttonEl =\n",
              "        document.querySelector('#df-4ffcb869-0dbf-49bd-a617-956e304e12c3 button.colab-df-convert');\n",
              "      buttonEl.style.display =\n",
              "        google.colab.kernel.accessAllowed ? 'block' : 'none';\n",
              "\n",
              "      async function convertToInteractive(key) {\n",
              "        const element = document.querySelector('#df-4ffcb869-0dbf-49bd-a617-956e304e12c3');\n",
              "        const dataTable =\n",
              "          await google.colab.kernel.invokeFunction('convertToInteractive',\n",
              "                                                    [key], {});\n",
              "        if (!dataTable) return;\n",
              "\n",
              "        const docLinkHtml = 'Like what you see? Visit the ' +\n",
              "          '<a target=\"_blank\" href=https://colab.research.google.com/notebooks/data_table.ipynb>data table notebook</a>'\n",
              "          + ' to learn more about interactive tables.';\n",
              "        element.innerHTML = '';\n",
              "        dataTable['output_type'] = 'display_data';\n",
              "        await google.colab.output.renderOutput(dataTable, element);\n",
              "        const docLink = document.createElement('div');\n",
              "        docLink.innerHTML = docLinkHtml;\n",
              "        element.appendChild(docLink);\n",
              "      }\n",
              "    </script>\n",
              "  </div>\n",
              "\n",
              "\n",
              "    <div id=\"df-3167d070-feb3-4b89-92b7-078adbe43c96\">\n",
              "      <button class=\"colab-df-quickchart\" onclick=\"quickchart('df-3167d070-feb3-4b89-92b7-078adbe43c96')\"\n",
              "                title=\"Suggest charts\"\n",
              "                style=\"display:none;\">\n",
              "\n",
              "<svg xmlns=\"http://www.w3.org/2000/svg\" height=\"24px\"viewBox=\"0 0 24 24\"\n",
              "     width=\"24px\">\n",
              "    <g>\n",
              "        <path d=\"M19 3H5c-1.1 0-2 .9-2 2v14c0 1.1.9 2 2 2h14c1.1 0 2-.9 2-2V5c0-1.1-.9-2-2-2zM9 17H7v-7h2v7zm4 0h-2V7h2v10zm4 0h-2v-4h2v4z\"/>\n",
              "    </g>\n",
              "</svg>\n",
              "      </button>\n",
              "\n",
              "<style>\n",
              "  .colab-df-quickchart {\n",
              "      --bg-color: #E8F0FE;\n",
              "      --fill-color: #1967D2;\n",
              "      --hover-bg-color: #E2EBFA;\n",
              "      --hover-fill-color: #174EA6;\n",
              "      --disabled-fill-color: #AAA;\n",
              "      --disabled-bg-color: #DDD;\n",
              "  }\n",
              "\n",
              "  [theme=dark] .colab-df-quickchart {\n",
              "      --bg-color: #3B4455;\n",
              "      --fill-color: #D2E3FC;\n",
              "      --hover-bg-color: #434B5C;\n",
              "      --hover-fill-color: #FFFFFF;\n",
              "      --disabled-bg-color: #3B4455;\n",
              "      --disabled-fill-color: #666;\n",
              "  }\n",
              "\n",
              "  .colab-df-quickchart {\n",
              "    background-color: var(--bg-color);\n",
              "    border: none;\n",
              "    border-radius: 50%;\n",
              "    cursor: pointer;\n",
              "    display: none;\n",
              "    fill: var(--fill-color);\n",
              "    height: 32px;\n",
              "    padding: 0;\n",
              "    width: 32px;\n",
              "  }\n",
              "\n",
              "  .colab-df-quickchart:hover {\n",
              "    background-color: var(--hover-bg-color);\n",
              "    box-shadow: 0 1px 2px rgba(60, 64, 67, 0.3), 0 1px 3px 1px rgba(60, 64, 67, 0.15);\n",
              "    fill: var(--button-hover-fill-color);\n",
              "  }\n",
              "\n",
              "  .colab-df-quickchart-complete:disabled,\n",
              "  .colab-df-quickchart-complete:disabled:hover {\n",
              "    background-color: var(--disabled-bg-color);\n",
              "    fill: var(--disabled-fill-color);\n",
              "    box-shadow: none;\n",
              "  }\n",
              "\n",
              "  .colab-df-spinner {\n",
              "    border: 2px solid var(--fill-color);\n",
              "    border-color: transparent;\n",
              "    border-bottom-color: var(--fill-color);\n",
              "    animation:\n",
              "      spin 1s steps(1) infinite;\n",
              "  }\n",
              "\n",
              "  @keyframes spin {\n",
              "    0% {\n",
              "      border-color: transparent;\n",
              "      border-bottom-color: var(--fill-color);\n",
              "      border-left-color: var(--fill-color);\n",
              "    }\n",
              "    20% {\n",
              "      border-color: transparent;\n",
              "      border-left-color: var(--fill-color);\n",
              "      border-top-color: var(--fill-color);\n",
              "    }\n",
              "    30% {\n",
              "      border-color: transparent;\n",
              "      border-left-color: var(--fill-color);\n",
              "      border-top-color: var(--fill-color);\n",
              "      border-right-color: var(--fill-color);\n",
              "    }\n",
              "    40% {\n",
              "      border-color: transparent;\n",
              "      border-right-color: var(--fill-color);\n",
              "      border-top-color: var(--fill-color);\n",
              "    }\n",
              "    60% {\n",
              "      border-color: transparent;\n",
              "      border-right-color: var(--fill-color);\n",
              "    }\n",
              "    80% {\n",
              "      border-color: transparent;\n",
              "      border-right-color: var(--fill-color);\n",
              "      border-bottom-color: var(--fill-color);\n",
              "    }\n",
              "    90% {\n",
              "      border-color: transparent;\n",
              "      border-bottom-color: var(--fill-color);\n",
              "    }\n",
              "  }\n",
              "</style>\n",
              "\n",
              "      <script>\n",
              "        async function quickchart(key) {\n",
              "          const quickchartButtonEl =\n",
              "            document.querySelector('#' + key + ' button');\n",
              "          quickchartButtonEl.disabled = true;  // To prevent multiple clicks.\n",
              "          quickchartButtonEl.classList.add('colab-df-spinner');\n",
              "          try {\n",
              "            const charts = await google.colab.kernel.invokeFunction(\n",
              "                'suggestCharts', [key], {});\n",
              "          } catch (error) {\n",
              "            console.error('Error during call to suggestCharts:', error);\n",
              "          }\n",
              "          quickchartButtonEl.classList.remove('colab-df-spinner');\n",
              "          quickchartButtonEl.classList.add('colab-df-quickchart-complete');\n",
              "        }\n",
              "        (() => {\n",
              "          let quickchartButtonEl =\n",
              "            document.querySelector('#df-3167d070-feb3-4b89-92b7-078adbe43c96 button');\n",
              "          quickchartButtonEl.style.display =\n",
              "            google.colab.kernel.accessAllowed ? 'block' : 'none';\n",
              "        })();\n",
              "      </script>\n",
              "    </div>\n",
              "\n",
              "    </div>\n",
              "  </div>\n"
            ],
            "application/vnd.google.colaboratory.intrinsic+json": {
              "type": "dataframe",
              "variable_name": "diabetes",
              "summary": "{\n  \"name\": \"diabetes\",\n  \"rows\": 768,\n  \"fields\": [\n    {\n      \"column\": \"Pregnancies\",\n      \"properties\": {\n        \"dtype\": \"number\",\n        \"std\": 3,\n        \"min\": 0,\n        \"max\": 17,\n        \"num_unique_values\": 17,\n        \"samples\": [\n          6,\n          1,\n          3\n        ],\n        \"semantic_type\": \"\",\n        \"description\": \"\"\n      }\n    },\n    {\n      \"column\": \"Glucose\",\n      \"properties\": {\n        \"dtype\": \"number\",\n        \"std\": 31,\n        \"min\": 0,\n        \"max\": 199,\n        \"num_unique_values\": 136,\n        \"samples\": [\n          151,\n          101,\n          112\n        ],\n        \"semantic_type\": \"\",\n        \"description\": \"\"\n      }\n    },\n    {\n      \"column\": \"BloodPressure\",\n      \"properties\": {\n        \"dtype\": \"number\",\n        \"std\": 19,\n        \"min\": 0,\n        \"max\": 122,\n        \"num_unique_values\": 47,\n        \"samples\": [\n          86,\n          46,\n          85\n        ],\n        \"semantic_type\": \"\",\n        \"description\": \"\"\n      }\n    },\n    {\n      \"column\": \"SkinThickness\",\n      \"properties\": {\n        \"dtype\": \"number\",\n        \"std\": 15,\n        \"min\": 0,\n        \"max\": 99,\n        \"num_unique_values\": 51,\n        \"samples\": [\n          7,\n          12,\n          48\n        ],\n        \"semantic_type\": \"\",\n        \"description\": \"\"\n      }\n    },\n    {\n      \"column\": \"Insulin\",\n      \"properties\": {\n        \"dtype\": \"number\",\n        \"std\": 115,\n        \"min\": 0,\n        \"max\": 846,\n        \"num_unique_values\": 186,\n        \"samples\": [\n          52,\n          41,\n          183\n        ],\n        \"semantic_type\": \"\",\n        \"description\": \"\"\n      }\n    },\n    {\n      \"column\": \"BMI\",\n      \"properties\": {\n        \"dtype\": \"number\",\n        \"std\": 7.8841603203754405,\n        \"min\": 0.0,\n        \"max\": 67.1,\n        \"num_unique_values\": 248,\n        \"samples\": [\n          19.9,\n          31.0,\n          38.1\n        ],\n        \"semantic_type\": \"\",\n        \"description\": \"\"\n      }\n    },\n    {\n      \"column\": \"DiabetesPedigreeFunction\",\n      \"properties\": {\n        \"dtype\": \"number\",\n        \"std\": 0.33132859501277484,\n        \"min\": 0.078,\n        \"max\": 2.42,\n        \"num_unique_values\": 517,\n        \"samples\": [\n          1.731,\n          0.426,\n          0.138\n        ],\n        \"semantic_type\": \"\",\n        \"description\": \"\"\n      }\n    },\n    {\n      \"column\": \"Age\",\n      \"properties\": {\n        \"dtype\": \"number\",\n        \"std\": 11,\n        \"min\": 21,\n        \"max\": 81,\n        \"num_unique_values\": 52,\n        \"samples\": [\n          60,\n          47,\n          72\n        ],\n        \"semantic_type\": \"\",\n        \"description\": \"\"\n      }\n    },\n    {\n      \"column\": \"Outcome\",\n      \"properties\": {\n        \"dtype\": \"number\",\n        \"std\": 0,\n        \"min\": 0,\n        \"max\": 1,\n        \"num_unique_values\": 2,\n        \"samples\": [\n          0,\n          1\n        ],\n        \"semantic_type\": \"\",\n        \"description\": \"\"\n      }\n    }\n  ]\n}"
            }
          },
          "metadata": {},
          "execution_count": 57
        }
      ],
      "source": [
        "# diabetes2\n",
        "diabetes   = pd.read_csv(\"data/diabetes2.csv\")\n",
        "X_diabetes = diabetes.iloc[:, :-1].values\n",
        "Y_diabetes = diabetes.iloc[:,  -1].values\n",
        "\n",
        "# This configuration is on purpose\n",
        "# to test the case where regression is disfavored\n",
        "NBR_TEST   = 240\n",
        "# Assuming the first 30% rows are for testing and the rest for training\n",
        "X_test     = X_diabetes[-NBR_TEST:, :] # 30% or more\n",
        "Y_test     = Y_diabetes[-NBR_TEST:   ].reshape([-1, 1])\n",
        "\n",
        "X_train    = X_diabetes[:-NBR_TEST, :]\n",
        "Y_train    = Y_diabetes[:-NBR_TEST   ].reshape([-1, 1])\n",
        "\n",
        "diabetes.head()"
      ]
    },
    {
      "cell_type": "code",
      "execution_count": 58,
      "metadata": {
        "id": "50e47OCqZLxi",
        "outputId": "4c4a0d8d-c127-4fd8-e23f-e5f9665fda2c",
        "colab": {
          "base_uri": "https://localhost:8080/"
        }
      },
      "outputs": [
        {
          "output_type": "execute_result",
          "data": {
            "text/plain": [
              "array([[ 0.63564802,  0.83833016,  0.16863427,  0.93506705, -0.67560188,\n",
              "         0.22006711,  0.42947843,  1.43582544],\n",
              "       [-0.85203884, -1.09137813, -0.14214721,  0.55085273, -0.67560188,\n",
              "        -0.63225191, -0.38057337, -0.18535642],\n",
              "       [ 1.23072277,  1.91039032, -0.24574104, -1.30618316, -0.67560188,\n",
              "        -1.03405944,  0.56155209, -0.10003106],\n",
              "       [-0.85203884, -0.96885697, -0.14214721,  0.16663841,  0.12145706,\n",
              "        -0.44961212, -0.92060791, -1.03861003],\n",
              "       [-1.14957621,  0.50139697, -1.48886696,  0.93506705,  0.74892899,\n",
              "         1.37678577,  5.30446409, -0.0147057 ]])"
            ]
          },
          "metadata": {},
          "execution_count": 58
        }
      ],
      "source": [
        "scaler   = StandardScaler()\n",
        "X_trains = scaler.fit_transform(X_train)\n",
        "X_tests  = scaler.transform(X_test)\n",
        "\n",
        "X_trains[:5, :]"
      ]
    },
    {
      "cell_type": "markdown",
      "metadata": {
        "id": "0QplMcnXZLxi"
      },
      "source": [
        "#### II.1. Initial parameters and complexity\n",
        "\n",
        "We want to test the benefit of parameters (thetas) initialization and the complexity of the model.\n",
        "To do this, five models were trained in order to recover the training and validation errors.\n",
        "The tested models are:\n",
        "- **Log0**: A single neuron (logistic regression) with initialization 0\n",
        "- **LogR**: A single neuron (logistic regression) with random initialization\n",
        "- **NN0**: A 4(relu)X2(relu)X1(sigmoid) neural network with initialization 0\n",
        "- **NN1**: A 4(relu)X2(relu)X1(sigmoid) neural network with initialization 1\n",
        "- **NNR**: A 4(relu)X2(relu)X1(sigmoid) neural network with random initialization"
      ]
    },
    {
      "cell_type": "code",
      "execution_count": 59,
      "metadata": {
        "id": "Z_gMp266ZLxj",
        "outputId": "defb67ec-9c87-4729-e8ec-d07ac6da16bd",
        "colab": {
          "base_uri": "https://localhost:8080/",
          "height": 574
        }
      },
      "outputs": [
        {
          "output_type": "stream",
          "name": "stdout",
          "text": [
            "Log0 : Training ...\n",
            "LogR : Training ...\n",
            "NN0 : Training ...\n",
            "NN1 : Training ...\n",
            "NNR : Training ...\n"
          ]
        },
        {
          "output_type": "display_data",
          "data": {
            "text/plain": [
              "<Figure size 1600x500 with 2 Axes>"
            ],
            "image/png": "[encoded data removed]"
          },
          "metadata": {}
        }
      ],
      "source": [
        "alpha  = 0.01\n",
        "NBR_IT = 200\n",
        "\n",
        "M, N = X_train.shape\n",
        "\n",
        "# ==================================\n",
        "# Définition des modèles\n",
        "# ==================================\n",
        "\n",
        "models = {}\n",
        "\n",
        "models['Log0'] = Sequential()\n",
        "models['Log0'].add(Dense(1, activation=\"sigmoid\", kernel_initializer='zero', bias_initializer='zeros'))\n",
        "\n",
        "models['LogR'] = Sequential()\n",
        "models['LogR'].add(Dense(1, activation=\"sigmoid\", kernel_initializer='glorot_uniform', bias_initializer='glorot_uniform'))\n",
        "\n",
        "models['NN0']  = Sequential()\n",
        "models['NN0'].add(Dense(4, activation=\"relu\", kernel_initializer='zero', bias_initializer='zeros'))\n",
        "models['NN0'].add(Dense(2, activation=\"relu\", kernel_initializer='zero', bias_initializer='zeros'))\n",
        "models['NN0'].add(Dense(1, activation=\"sigmoid\", kernel_initializer='zero', bias_initializer='zeros'))\n",
        "\n",
        "models['NN1']  = Sequential()\n",
        "models['NN1'].add(Dense(4, activation=\"relu\", kernel_initializer='one', bias_initializer='one'))\n",
        "models['NN1'].add(Dense(2, activation=\"relu\", kernel_initializer='one', bias_initializer='one'))\n",
        "models['NN1'].add(Dense(1, activation=\"sigmoid\", kernel_initializer='one', bias_initializer='one'))\n",
        "\n",
        "models['NNR']  = Sequential()\n",
        "models['NNR'].add(Dense(4, activation=\"relu\", kernel_initializer='glorot_uniform', bias_initializer='glorot_uniform'))\n",
        "models['NNR'].add(Dense(2, activation=\"relu\", kernel_initializer='glorot_uniform', bias_initializer='glorot_uniform'))\n",
        "models['NNR'].add(Dense(1, activation=\"sigmoid\", kernel_initializer='glorot_uniform', bias_initializer='glorot_uniform'))\n",
        "\n",
        "# ====================================\n",
        "# Model training\n",
        "# ====================================\n",
        "\n",
        "# we do not display the first 3 iterations, until the model stabilizes\n",
        "# otherwise, one model may have great value compared to others\n",
        "# therefore, we cannot visualize the convergence of the others\n",
        "IT_range = range(NBR_IT)[3:]\n",
        "fig, (ax1, ax2) = plt.subplots(1, 2, figsize=(16,5))\n",
        "\n",
        "\n",
        "for name, model in models.items():\n",
        "    model.compile(loss      = tf.keras.losses.binary_crossentropy,\n",
        "                 optimizer = tf.keras.optimizers.SGD(learning_rate=alpha))\n",
        "    print(name, ': Training ...')\n",
        "    results = model.fit(X_trains, Y_train, epochs=NBR_IT, validation_data=(X_tests, Y_test), verbose=0)\n",
        "\n",
        "    # ===========================\n",
        "    # PREPARATION OF THE PLOT\n",
        "    # ===========================\n",
        "    ax1.plot(IT_range, results.history[\"loss\"    ][3:], label=name)\n",
        "    ax2.plot(IT_range, results.history[\"val_loss\"][3:], label=name)\n",
        "\n",
        "# ==================================\n",
        "# PLOT\n",
        "# ==================================\n",
        "\n",
        "ax1.title.set_text(\"Training\")\n",
        "ax2.title.set_text(\"Validation\")\n",
        "\n",
        "ax1.set(xlabel='iteration', ylabel='error')\n",
        "ax2.set(xlabel='iteration', ylabel='error')\n",
        "\n",
        "ax1.legend()\n",
        "ax2.legend()\n",
        "plt.show()"
      ]
    },
    {
      "cell_type": "markdown",
      "metadata": {
        "id": "mV3xwoUmZLxj"
      },
      "source": [
        "**TODO: Analyze the results**\n",
        "\n",
        "1. We notice that single-neuron models are faster than neural network models (in terms of iterations and in terms of time). Why?\n",
        "1. We notice that **NN0** does not improve (it stagnates from the first iterations). Explain why.\n",
        "1. We notice that **NN1** improves compared to **NN0**, but it quickly stagnates compared to **NNR**. Explain why.\n",
        "1. Based on validation, what is the relationship between the number of layers, the complexity of the problem, the number/quality of data and the learning problems (under/over). Mention 4 combinations that may cause problems.\n",
        "\n",
        "**Answers**\n",
        "\n",
        "1. Models with single neuron ar faster than neural network model because the number of computation it needs is less than network compulations.\n",
        "1. the initialistion have a big impact how the model trains, so initialising with 0 can cause the gradients all to be null during backprobagation=> no updates to the weights and the model cannot learn .\n",
        "1. NNR and NN1 use initialisation different that NN0, random initialisation helps bypassing the issue of 0 weights, but initialising all weights with the same value may cause the network to get stuch like in NN0, so random initialisation helps avoid that .\n",
        "1. high complexity of model + simple problem+limited data=> overfitting\n",
        "low complexity+complex problem+ sufficient data => underfeating\n",
        "high complexity model+ complex problem+ insufficient data=> may cause overfitting to existing data\n",
        "many layers+high quality data+ moderately complex problem => many layers cause overfitting, because the model might become too powerfull to capture minute details.\n"
      ]
    },
    {
      "cell_type": "markdown",
      "metadata": {
        "id": "trUrmVwlZLxk"
      },
      "source": [
        "#### II.2. Activation functions\n",
        "\n",
        "We want to test which activation functions are more appropriate for the hidden layers and which ones for the output layer.\n",
        "To do this, five models were trained in order to recover the history of the training error.\n",
        "The tested models are:\n",
        "- **relu->sigm**: a network with **relu** in the hidden layers and **sigmoid** in the output layer\n",
        "- **sigm->sigm**: a network with **sigmoid** in the hidden layers and **sigmoid** in the output layer\n",
        "- **tanh->sigm**: a network with **tanh** in the hidden layers and **sigmoid** in the output layer\n",
        "- **sigm->relu**: a network with **sigmoid** in the hidden layers and **relu** in the output layer\n",
        "- **relu->relu**: a network with **relu** in the hidden layers and **relu** in the output layer"
      ]
    },
    {
      "cell_type": "code",
      "execution_count": 60,
      "metadata": {
        "id": "fgAnpOmuZLxk",
        "outputId": "fae74ad3-122c-4bc5-bcb9-be9a86a948fa",
        "colab": {
          "base_uri": "https://localhost:8080/",
          "height": 552
        }
      },
      "outputs": [
        {
          "output_type": "stream",
          "name": "stdout",
          "text": [
            "relu->sigm : Training ...\n",
            "sigm->sigm : Training ...\n",
            "tanh->sigm : Training ...\n",
            "sigm->relu : Training ...\n",
            "relu->relu : Training ...\n"
          ]
        },
        {
          "output_type": "display_data",
          "data": {
            "text/plain": [
              "<Figure size 1600x500 with 2 Axes>"
            ],
            "image/png": "[encoded data removed]"
          },
          "metadata": {}
        }
      ],
      "source": [
        "alpha  = 0.01\n",
        "NBR_IT = 100\n",
        "\n",
        "M, N = X_train.shape\n",
        "\n",
        "L1 = 2 # Number of neurons in layer 1\n",
        "L2 = 2 # Number of neurons in layer 2\n",
        "\n",
        "# ==================================\n",
        "# Models' design\n",
        "# ==================================\n",
        "\n",
        "defs = [\n",
        "    ('relu->sigm', 'relu', 'sigmoid'),\n",
        "    ('sigm->sigm', 'sigmoid', 'sigmoid'),\n",
        "    ('tanh->sigm', 'tanh', 'sigmoid'),\n",
        "    ('sigm->relu', 'sigmoid', 'relu'),\n",
        "    ('relu->relu', 'relu', 'relu')\n",
        "]\n",
        "\n",
        "models = {}\n",
        "params = {'kernel_initializer':'glorot_uniform', 'bias_initializer':'glorot_uniform'}\n",
        "\n",
        "for name, in_act, out_act in defs:\n",
        "    models[name] = Sequential()\n",
        "    models[name].add(Dense(L1, activation = in_act , **params))\n",
        "    models[name].add(Dense(L2, activation = in_act , **params))\n",
        "    models[name].add(Dense(1,  activation = out_act, **params))\n",
        "\n",
        "# ==================================\n",
        "# Models' training\n",
        "# ==================================\n",
        "\n",
        "results = {}\n",
        "\n",
        "for name, model in models.items():\n",
        "    model.compile(loss      = tf.keras.losses.binary_crossentropy,\n",
        "                  optimizer = tf.keras.optimizers.SGD(learning_rate=alpha))\n",
        "    print(name, ': Training ...')\n",
        "    results[name] = model.fit(X_trains, Y_train, epochs=NBR_IT, verbose=0)\n",
        "\n",
        "\n",
        "# ==================================\n",
        "# Plot\n",
        "# ==================================\n",
        "\n",
        "fig, (ax1, ax2) = plt.subplots(1, 2, figsize=(16,5))\n",
        "\n",
        "for nom, result in results.items():\n",
        "    ax = ax1 if nom.endswith('sigm') else ax2\n",
        "    ax.plot(range(NBR_IT), result.history['loss'], label=nom)\n",
        "\n",
        "ax1.legend()\n",
        "ax2.legend()\n",
        "plt.xlabel(\"iteration\")\n",
        "plt.ylabel(\"error\")\n",
        "plt.legend()\n",
        "plt.show()"
      ]
    },
    {
      "cell_type": "markdown",
      "metadata": {
        "id": "vFKDR_aaZLxl"
      },
      "source": [
        "**TODO: Analyze the results**\n",
        "\n",
        "1. We notice that the **sigmoid->sigmoid** model stagnated quickly. Explain how?\n",
        "1. We notice that this model converged more quickly (in terms of number of iterations) compared to the two models with **sigmoid** output. Why?\n",
        "1. We notice that the models with **relu** output are not stable; at each execution, we will have a different diagram (sometimes improvement, sometimes deterioration, etc.). It should be noted that random initialization is not the source of the problem since there are other similar but stable models. So why did they behave like this?\n",
        "\n",
        "**Answers**\n",
        "\n",
        "1. sigmoid function squashes values between 0 and 1,because the gradient can become too small => weights updated slowly\n",
        "1. Thix can be due to limited complexity, the problem might be relativelysimple, and a single sigmoid layer in the hidden layer might be sufficient to capture the underlying pattern.In this case, the additional layer in tanh->sigmoid or relu->sigmoid might introduce unnecessary complexity and slow down convergence.\n",
        "1. the model with relu output are not stable, due to dying relu problem, the dying relu problem occurs when relu neurons die, this can happen if a relu neuron recieves a negative input early in the training process and never receives a positive large input enough to turn it on again.Once a ReLU neuron is dead it will always output zero regardless of the input it receives. This can prevent the network from learning and lead to the erratic behavior seen in the models with relu output."
      ]
    },
    {
      "cell_type": "markdown",
      "metadata": {
        "id": "qU3vQZlJZLxl"
      },
      "source": [
        "#### II.3. Optimisation functions\n",
        "\n",
        "We want to test different optimization functions.\n",
        "To do this, four models were trained in order to recover the history of the training error.\n",
        "The tested models are:\n",
        "- **GD**: a network trained with gradient descent\n",
        "- **Adagrad**: a network trained with AdaGrad\n",
        "- **RMSprop**: a network trained with RMSprop\n",
        "- **Adam**: a network trained with Adam"
      ]
    },
    {
      "cell_type": "code",
      "execution_count": 61,
      "metadata": {
        "id": "YgObm5EFZLxl",
        "outputId": "54d040a7-1e55-4eb2-dc59-0ada18d68fb1",
        "colab": {
          "base_uri": "https://localhost:8080/",
          "height": 518
        }
      },
      "outputs": [
        {
          "output_type": "stream",
          "name": "stdout",
          "text": [
            "GD : Training ...\n",
            "Adagrad : Training ...\n",
            "RMSprop : Training ...\n",
            "Adam : Training ...\n"
          ]
        },
        {
          "output_type": "display_data",
          "data": {
            "text/plain": [
              "<Figure size 640x480 with 1 Axes>"
            ],
            "image/png": "[encoded data removed]"
          },
          "metadata": {}
        }
      ],
      "source": [
        "alpha  = 0.01\n",
        "NBR_IT = 300\n",
        "\n",
        "M, N = X_train.shape\n",
        "\n",
        "L1 = 2\n",
        "L2 = 2\n",
        "\n",
        "# we do not display the first 3 iterations, until the model stabilizes\n",
        "# otherwise, one model may have great value compared to others\n",
        "# therefore, we cannot visualize the convergence of the others\n",
        "IT_range = range(NBR_IT)[3:]\n",
        "\n",
        "defs = [ # Definitions\n",
        "    ('GD'     , tf.keras.optimizers.SGD    (learning_rate=alpha)),\n",
        "    ('Adagrad', tf.keras.optimizers.Adagrad(learning_rate=alpha)),\n",
        "    ('RMSprop', tf.keras.optimizers.RMSprop(learning_rate=alpha)),\n",
        "    ('Adam'   , tf.keras.optimizers.Adam   (learning_rate=alpha))\n",
        "]\n",
        "\n",
        "params = {'kernel_initializer':'glorot_uniform', 'bias_initializer':'glorot_uniform'}\n",
        "\n",
        "for name, opt in defs:\n",
        "    model = Sequential()\n",
        "    model.add(Dense(L1, activation=\"relu\"   , **params))\n",
        "    model.add(Dense(L2, activation=\"relu\"   , **params))\n",
        "    model.add(Dense(1,  activation=\"sigmoid\", **params))\n",
        "    model.compile(loss = tf.keras.losses.binary_crossentropy, optimizer = opt)\n",
        "\n",
        "    print(name, ': Training ...')\n",
        "    results = model.fit(X_trains, Y_train, epochs=NBR_IT, verbose=0)\n",
        "    plt.plot(IT_range, results.history[\"loss\"][3:], label=nom)\n",
        "\n",
        "\n",
        "plt.xlabel(\"iteration\")\n",
        "plt.ylabel(\"error\")\n",
        "plt.legend()\n",
        "plt.show()"
      ]
    },
    {
      "cell_type": "markdown",
      "metadata": {
        "id": "9JzU-wpdZLxm"
      },
      "source": [
        "**TODO: Analyze the results**\n",
        "\n",
        "1. We notice that the **GD** model converges faster than **AdaGrad**. Why?\n",
        "1. Why does **RMSprop** converge faster than **AdaGrad**, yet their equations are almost similar? (here you have to explain the contribution in the equation of the first compared to the second)\n",
        "1. By running this code several times, we notice that Adam is more stable. Why?\n",
        "\n",
        "**Answers**\n",
        "\n",
        "1. GD may converge faster than adagrad, because adagrad continuously accumulates the squared gradient from all previous updates for each weight=> learning rate too small for some weight=> slow convergence.\n",
        "1. rmsprop converges faster than AdaGrad even if they have similar equations because :RMSprop includes an exponential decay factor in its computation of the learning rate adjustment, which allows it to adjust the learning rate more dynamically. This approach ensures that the learning rate does not diminish too quickly and can adapt better to changing gradient magnitudes.Also, maintaining a balance between the historical gradients and the current gradient, RMSprop can adapt more effectively to different regions of the loss landscape, which provides more consistent and faster convergence compared to AdaGrad, which can excessively decrease the learning rate.\n",
        "1. Adam have adaptive learning rates of RMSpop with the momentum term of SGD, this term helps to address local minima and can help the optimizer conver to a solution faster. with noce reduction term that helps to have stability and convergence\n"
      ]
    },
    {
      "cell_type": "code",
      "execution_count": 62,
      "metadata": {
        "id": "ugSwT32AZLxm",
        "outputId": "ebd08e87-84af-40a9-ca8d-932736886c34",
        "colab": {
          "base_uri": "https://localhost:8080/"
        }
      },
      "outputs": [
        {
          "output_type": "stream",
          "name": "stdout",
          "text": [
            "The torture has finally ended :)\n"
          ]
        }
      ],
      "source": [
        "print('The torture has finally ended :)')"
      ]
    }
  ],
  "metadata": {
    "kernelspec": {
      "display_name": "ml",
      "language": "python",
      "name": "python3"
    },
    "language_info": {
      "codemirror_mode": {
        "name": "ipython",
        "version": 3
      },
      "file_extension": ".py",
      "mimetype": "text/x-python",
      "name": "python",
      "nbconvert_exporter": "python",
      "pygments_lexer": "ipython3",
      "version": "3.10.0"
    },
    "colab": {
      "provenance": []
    }
  },
  "nbformat": 4,
  "nbformat_minor": 0
}